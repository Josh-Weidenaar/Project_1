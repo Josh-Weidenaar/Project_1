{
 "cells": [
  {
   "cell_type": "code",
   "execution_count": 1,
   "metadata": {},
   "outputs": [
    {
     "data": {
      "text/html": [
       "<div>\n",
       "<style scoped>\n",
       "    .dataframe tbody tr th:only-of-type {\n",
       "        vertical-align: middle;\n",
       "    }\n",
       "\n",
       "    .dataframe tbody tr th {\n",
       "        vertical-align: top;\n",
       "    }\n",
       "\n",
       "    .dataframe thead th {\n",
       "        text-align: right;\n",
       "    }\n",
       "</style>\n",
       "<table border=\"1\" class=\"dataframe\">\n",
       "  <thead>\n",
       "    <tr style=\"text-align: right;\">\n",
       "      <th></th>\n",
       "      <th>Name</th>\n",
       "      <th>Location</th>\n",
       "      <th>Status</th>\n",
       "      <th>Date</th>\n",
       "      <th>Unnamed: 4</th>\n",
       "      <th>Unnamed: 5</th>\n",
       "    </tr>\n",
       "  </thead>\n",
       "  <tbody>\n",
       "    <tr>\n",
       "      <th>0</th>\n",
       "      <td>Paladar</td>\n",
       "      <td>Logan Square</td>\n",
       "      <td>Permanently closed</td>\n",
       "      <td>Mar-21</td>\n",
       "      <td>NaN</td>\n",
       "      <td>NaN</td>\n",
       "    </tr>\n",
       "    <tr>\n",
       "      <th>1</th>\n",
       "      <td>The Common Cup</td>\n",
       "      <td>Rogers Park</td>\n",
       "      <td>Temporary closed</td>\n",
       "      <td>Mar-21</td>\n",
       "      <td>NaN</td>\n",
       "      <td>NaN</td>\n",
       "    </tr>\n",
       "    <tr>\n",
       "      <th>2</th>\n",
       "      <td>No Bones Beach Club</td>\n",
       "      <td>Wicker Park</td>\n",
       "      <td>Permanently closed</td>\n",
       "      <td>Mar-21</td>\n",
       "      <td>NaN</td>\n",
       "      <td>NaN</td>\n",
       "    </tr>\n",
       "    <tr>\n",
       "      <th>3</th>\n",
       "      <td>Windy Kitty Cat Café and Lounge</td>\n",
       "      <td>Bucktown</td>\n",
       "      <td>Temporary closed</td>\n",
       "      <td>Mar-21</td>\n",
       "      <td>NaN</td>\n",
       "      <td>NaN</td>\n",
       "    </tr>\n",
       "    <tr>\n",
       "      <th>4</th>\n",
       "      <td>Don Juan Restaurante</td>\n",
       "      <td>Edison Park</td>\n",
       "      <td>Permanently closed</td>\n",
       "      <td>Mar-21</td>\n",
       "      <td>NaN</td>\n",
       "      <td>NaN</td>\n",
       "    </tr>\n",
       "    <tr>\n",
       "      <th>...</th>\n",
       "      <td>...</td>\n",
       "      <td>...</td>\n",
       "      <td>...</td>\n",
       "      <td>...</td>\n",
       "      <td>...</td>\n",
       "      <td>...</td>\n",
       "    </tr>\n",
       "    <tr>\n",
       "      <th>248</th>\n",
       "      <td>Monty Gael's Tavern and Grill</td>\n",
       "      <td>North Center</td>\n",
       "      <td>Permanently closed</td>\n",
       "      <td>May-20</td>\n",
       "      <td>NaN</td>\n",
       "      <td>NaN</td>\n",
       "    </tr>\n",
       "    <tr>\n",
       "      <th>249</th>\n",
       "      <td>Fat Rice</td>\n",
       "      <td>Logan Square</td>\n",
       "      <td>Permanently closed</td>\n",
       "      <td>May-20</td>\n",
       "      <td>NaN</td>\n",
       "      <td>NaN</td>\n",
       "    </tr>\n",
       "    <tr>\n",
       "      <th>250</th>\n",
       "      <td>The Windsor</td>\n",
       "      <td>Streetville</td>\n",
       "      <td>Permanently closed</td>\n",
       "      <td>May-20</td>\n",
       "      <td>NaN</td>\n",
       "      <td>NaN</td>\n",
       "    </tr>\n",
       "    <tr>\n",
       "      <th>251</th>\n",
       "      <td>D.O.C Wine Bar</td>\n",
       "      <td>Lombard</td>\n",
       "      <td>Permanently closed</td>\n",
       "      <td>May-20</td>\n",
       "      <td>NaN</td>\n",
       "      <td>NaN</td>\n",
       "    </tr>\n",
       "    <tr>\n",
       "      <th>252</th>\n",
       "      <td>The Front Room</td>\n",
       "      <td>West Loop</td>\n",
       "      <td>Permanently closed</td>\n",
       "      <td>May-20</td>\n",
       "      <td>NaN</td>\n",
       "      <td>NaN</td>\n",
       "    </tr>\n",
       "  </tbody>\n",
       "</table>\n",
       "<p>253 rows × 6 columns</p>\n",
       "</div>"
      ],
      "text/plain": [
       "                                Name     Location               Status  \\\n",
       "0                            Paladar  Logan Square  Permanently closed   \n",
       "1                     The Common Cup   Rogers Park    Temporary closed   \n",
       "2                No Bones Beach Club   Wicker Park  Permanently closed   \n",
       "3    Windy Kitty Cat Café and Lounge      Bucktown    Temporary closed   \n",
       "4               Don Juan Restaurante   Edison Park  Permanently closed   \n",
       "..                               ...           ...                 ...   \n",
       "248    Monty Gael's Tavern and Grill  North Center  Permanently closed   \n",
       "249                         Fat Rice  Logan Square  Permanently closed   \n",
       "250                      The Windsor   Streetville  Permanently closed   \n",
       "251                   D.O.C Wine Bar       Lombard  Permanently closed   \n",
       "252                   The Front Room     West Loop  Permanently closed   \n",
       "\n",
       "       Date  Unnamed: 4  Unnamed: 5  \n",
       "0    Mar-21         NaN         NaN  \n",
       "1    Mar-21         NaN         NaN  \n",
       "2    Mar-21         NaN         NaN  \n",
       "3    Mar-21         NaN         NaN  \n",
       "4    Mar-21         NaN         NaN  \n",
       "..      ...         ...         ...  \n",
       "248  May-20         NaN         NaN  \n",
       "249  May-20         NaN         NaN  \n",
       "250  May-20         NaN         NaN  \n",
       "251  May-20         NaN         NaN  \n",
       "252  May-20         NaN         NaN  \n",
       "\n",
       "[253 rows x 6 columns]"
      ]
     },
     "execution_count": 1,
     "metadata": {},
     "output_type": "execute_result"
    }
   ],
   "source": [
    "# Dependencies and Setup\n",
    "import matplotlib.pyplot as plt\n",
    "import pandas as pd\n",
    "import scipy.stats as st\n",
    "import numpy as np\n",
    "\n",
    "# data files\n",
    "file = \"data/restaurants_data.csv\"\n",
    "\n",
    "# Read the mouse data and the study results\n",
    "restaurants_df = pd.read_csv(file)\n",
    "restaurants_df"
   ]
  },
  {
   "cell_type": "code",
   "execution_count": 2,
   "metadata": {},
   "outputs": [
    {
     "data": {
      "text/html": [
       "<div>\n",
       "<style scoped>\n",
       "    .dataframe tbody tr th:only-of-type {\n",
       "        vertical-align: middle;\n",
       "    }\n",
       "\n",
       "    .dataframe tbody tr th {\n",
       "        vertical-align: top;\n",
       "    }\n",
       "\n",
       "    .dataframe thead th {\n",
       "        text-align: right;\n",
       "    }\n",
       "</style>\n",
       "<table border=\"1\" class=\"dataframe\">\n",
       "  <thead>\n",
       "    <tr style=\"text-align: right;\">\n",
       "      <th></th>\n",
       "      <th>Name</th>\n",
       "      <th>Location</th>\n",
       "      <th>Status</th>\n",
       "      <th>Date</th>\n",
       "    </tr>\n",
       "  </thead>\n",
       "  <tbody>\n",
       "    <tr>\n",
       "      <th>0</th>\n",
       "      <td>Paladar</td>\n",
       "      <td>Logan Square</td>\n",
       "      <td>Permanently closed</td>\n",
       "      <td>Mar-21</td>\n",
       "    </tr>\n",
       "    <tr>\n",
       "      <th>1</th>\n",
       "      <td>The Common Cup</td>\n",
       "      <td>Rogers Park</td>\n",
       "      <td>Temporary closed</td>\n",
       "      <td>Mar-21</td>\n",
       "    </tr>\n",
       "    <tr>\n",
       "      <th>2</th>\n",
       "      <td>No Bones Beach Club</td>\n",
       "      <td>Wicker Park</td>\n",
       "      <td>Permanently closed</td>\n",
       "      <td>Mar-21</td>\n",
       "    </tr>\n",
       "    <tr>\n",
       "      <th>3</th>\n",
       "      <td>Windy Kitty Cat Café and Lounge</td>\n",
       "      <td>Bucktown</td>\n",
       "      <td>Temporary closed</td>\n",
       "      <td>Mar-21</td>\n",
       "    </tr>\n",
       "    <tr>\n",
       "      <th>4</th>\n",
       "      <td>Don Juan Restaurante</td>\n",
       "      <td>Edison Park</td>\n",
       "      <td>Permanently closed</td>\n",
       "      <td>Mar-21</td>\n",
       "    </tr>\n",
       "    <tr>\n",
       "      <th>...</th>\n",
       "      <td>...</td>\n",
       "      <td>...</td>\n",
       "      <td>...</td>\n",
       "      <td>...</td>\n",
       "    </tr>\n",
       "    <tr>\n",
       "      <th>248</th>\n",
       "      <td>Monty Gael's Tavern and Grill</td>\n",
       "      <td>North Center</td>\n",
       "      <td>Permanently closed</td>\n",
       "      <td>May-20</td>\n",
       "    </tr>\n",
       "    <tr>\n",
       "      <th>249</th>\n",
       "      <td>Fat Rice</td>\n",
       "      <td>Logan Square</td>\n",
       "      <td>Permanently closed</td>\n",
       "      <td>May-20</td>\n",
       "    </tr>\n",
       "    <tr>\n",
       "      <th>250</th>\n",
       "      <td>The Windsor</td>\n",
       "      <td>Streetville</td>\n",
       "      <td>Permanently closed</td>\n",
       "      <td>May-20</td>\n",
       "    </tr>\n",
       "    <tr>\n",
       "      <th>251</th>\n",
       "      <td>D.O.C Wine Bar</td>\n",
       "      <td>Lombard</td>\n",
       "      <td>Permanently closed</td>\n",
       "      <td>May-20</td>\n",
       "    </tr>\n",
       "    <tr>\n",
       "      <th>252</th>\n",
       "      <td>The Front Room</td>\n",
       "      <td>West Loop</td>\n",
       "      <td>Permanently closed</td>\n",
       "      <td>May-20</td>\n",
       "    </tr>\n",
       "  </tbody>\n",
       "</table>\n",
       "<p>253 rows × 4 columns</p>\n",
       "</div>"
      ],
      "text/plain": [
       "                                Name     Location               Status    Date\n",
       "0                            Paladar  Logan Square  Permanently closed  Mar-21\n",
       "1                     The Common Cup   Rogers Park    Temporary closed  Mar-21\n",
       "2                No Bones Beach Club   Wicker Park  Permanently closed  Mar-21\n",
       "3    Windy Kitty Cat Café and Lounge      Bucktown    Temporary closed  Mar-21\n",
       "4               Don Juan Restaurante   Edison Park  Permanently closed  Mar-21\n",
       "..                               ...           ...                 ...     ...\n",
       "248    Monty Gael's Tavern and Grill  North Center  Permanently closed  May-20\n",
       "249                         Fat Rice  Logan Square  Permanently closed  May-20\n",
       "250                      The Windsor   Streetville  Permanently closed  May-20\n",
       "251                   D.O.C Wine Bar       Lombard  Permanently closed  May-20\n",
       "252                   The Front Room     West Loop  Permanently closed  May-20\n",
       "\n",
       "[253 rows x 4 columns]"
      ]
     },
     "execution_count": 2,
     "metadata": {},
     "output_type": "execute_result"
    }
   ],
   "source": [
    "# clean the dataset by getting rid of unecessary columns\n",
    "restaurants_df = restaurants_df.drop(columns=['Unnamed: 4', 'Unnamed: 5'])\n",
    "restaurants_df"
   ]
  },
  {
   "cell_type": "code",
   "execution_count": 3,
   "metadata": {},
   "outputs": [
    {
     "data": {
      "text/plain": [
       "253"
      ]
     },
     "execution_count": 3,
     "metadata": {},
     "output_type": "execute_result"
    }
   ],
   "source": [
    "# count all rows listed in the dataset\n",
    "len(restaurants_df[\"Name\"])"
   ]
  },
  {
   "cell_type": "code",
   "execution_count": 4,
   "metadata": {},
   "outputs": [
    {
     "data": {
      "text/plain": [
       "252"
      ]
     },
     "execution_count": 4,
     "metadata": {},
     "output_type": "execute_result"
    }
   ],
   "source": [
    "#count unique restaurants\n",
    "len(restaurants_df['Name'].value_counts())"
   ]
  },
  {
   "cell_type": "code",
   "execution_count": 5,
   "metadata": {},
   "outputs": [
    {
     "data": {
      "text/plain": [
       "array(['Mesa Urbana'], dtype=object)"
      ]
     },
     "execution_count": 5,
     "metadata": {},
     "output_type": "execute_result"
    }
   ],
   "source": [
    "# look for duplicates\n",
    "restaurants_df.duplicated(keep=False)\n",
    "restaurants_df.loc[restaurants_df.duplicated(subset=[\"Name\"]),\"Name\"].unique()"
   ]
  },
  {
   "cell_type": "code",
   "execution_count": 6,
   "metadata": {},
   "outputs": [
    {
     "data": {
      "text/html": [
       "<div>\n",
       "<style scoped>\n",
       "    .dataframe tbody tr th:only-of-type {\n",
       "        vertical-align: middle;\n",
       "    }\n",
       "\n",
       "    .dataframe tbody tr th {\n",
       "        vertical-align: top;\n",
       "    }\n",
       "\n",
       "    .dataframe thead th {\n",
       "        text-align: right;\n",
       "    }\n",
       "</style>\n",
       "<table border=\"1\" class=\"dataframe\">\n",
       "  <thead>\n",
       "    <tr style=\"text-align: right;\">\n",
       "      <th></th>\n",
       "      <th>Name</th>\n",
       "      <th>Location</th>\n",
       "      <th>Status</th>\n",
       "      <th>Date</th>\n",
       "    </tr>\n",
       "  </thead>\n",
       "  <tbody>\n",
       "    <tr>\n",
       "      <th>12</th>\n",
       "      <td>Mesa Urbana</td>\n",
       "      <td>Portage Park</td>\n",
       "      <td>Temporary closed</td>\n",
       "      <td>Feb-21</td>\n",
       "    </tr>\n",
       "    <tr>\n",
       "      <th>229</th>\n",
       "      <td>Mesa Urbana</td>\n",
       "      <td>Glenview</td>\n",
       "      <td>Permanently closed</td>\n",
       "      <td>Jun-20</td>\n",
       "    </tr>\n",
       "  </tbody>\n",
       "</table>\n",
       "</div>"
      ],
      "text/plain": [
       "            Name      Location               Status    Date\n",
       "12   Mesa Urbana  Portage Park     Temporary closed  Feb-21\n",
       "229  Mesa Urbana       Glenview  Permanently closed  Jun-20"
      ]
     },
     "execution_count": 6,
     "metadata": {},
     "output_type": "execute_result"
    }
   ],
   "source": [
    "# Delete duplicate\n",
    "restaurants_df[restaurants_df[\"Name\"]== 'Mesa Urbana']"
   ]
  },
  {
   "cell_type": "code",
   "execution_count": 7,
   "metadata": {},
   "outputs": [
    {
     "data": {
      "text/html": [
       "<div>\n",
       "<style scoped>\n",
       "    .dataframe tbody tr th:only-of-type {\n",
       "        vertical-align: middle;\n",
       "    }\n",
       "\n",
       "    .dataframe tbody tr th {\n",
       "        vertical-align: top;\n",
       "    }\n",
       "\n",
       "    .dataframe thead th {\n",
       "        text-align: right;\n",
       "    }\n",
       "</style>\n",
       "<table border=\"1\" class=\"dataframe\">\n",
       "  <thead>\n",
       "    <tr style=\"text-align: right;\">\n",
       "      <th></th>\n",
       "      <th>Name</th>\n",
       "      <th>Location</th>\n",
       "      <th>Status</th>\n",
       "      <th>Date</th>\n",
       "    </tr>\n",
       "  </thead>\n",
       "  <tbody>\n",
       "    <tr>\n",
       "      <th>0</th>\n",
       "      <td>Paladar</td>\n",
       "      <td>Logan Square</td>\n",
       "      <td>Permanently closed</td>\n",
       "      <td>Mar-21</td>\n",
       "    </tr>\n",
       "    <tr>\n",
       "      <th>1</th>\n",
       "      <td>The Common Cup</td>\n",
       "      <td>Rogers Park</td>\n",
       "      <td>Temporary closed</td>\n",
       "      <td>Mar-21</td>\n",
       "    </tr>\n",
       "    <tr>\n",
       "      <th>2</th>\n",
       "      <td>No Bones Beach Club</td>\n",
       "      <td>Wicker Park</td>\n",
       "      <td>Permanently closed</td>\n",
       "      <td>Mar-21</td>\n",
       "    </tr>\n",
       "    <tr>\n",
       "      <th>3</th>\n",
       "      <td>Windy Kitty Cat Café and Lounge</td>\n",
       "      <td>Bucktown</td>\n",
       "      <td>Temporary closed</td>\n",
       "      <td>Mar-21</td>\n",
       "    </tr>\n",
       "    <tr>\n",
       "      <th>4</th>\n",
       "      <td>Don Juan Restaurante</td>\n",
       "      <td>Edison Park</td>\n",
       "      <td>Permanently closed</td>\n",
       "      <td>Mar-21</td>\n",
       "    </tr>\n",
       "    <tr>\n",
       "      <th>...</th>\n",
       "      <td>...</td>\n",
       "      <td>...</td>\n",
       "      <td>...</td>\n",
       "      <td>...</td>\n",
       "    </tr>\n",
       "    <tr>\n",
       "      <th>248</th>\n",
       "      <td>Monty Gael's Tavern and Grill</td>\n",
       "      <td>North Center</td>\n",
       "      <td>Permanently closed</td>\n",
       "      <td>May-20</td>\n",
       "    </tr>\n",
       "    <tr>\n",
       "      <th>249</th>\n",
       "      <td>Fat Rice</td>\n",
       "      <td>Logan Square</td>\n",
       "      <td>Permanently closed</td>\n",
       "      <td>May-20</td>\n",
       "    </tr>\n",
       "    <tr>\n",
       "      <th>250</th>\n",
       "      <td>The Windsor</td>\n",
       "      <td>Streetville</td>\n",
       "      <td>Permanently closed</td>\n",
       "      <td>May-20</td>\n",
       "    </tr>\n",
       "    <tr>\n",
       "      <th>251</th>\n",
       "      <td>D.O.C Wine Bar</td>\n",
       "      <td>Lombard</td>\n",
       "      <td>Permanently closed</td>\n",
       "      <td>May-20</td>\n",
       "    </tr>\n",
       "    <tr>\n",
       "      <th>252</th>\n",
       "      <td>The Front Room</td>\n",
       "      <td>West Loop</td>\n",
       "      <td>Permanently closed</td>\n",
       "      <td>May-20</td>\n",
       "    </tr>\n",
       "  </tbody>\n",
       "</table>\n",
       "<p>251 rows × 4 columns</p>\n",
       "</div>"
      ],
      "text/plain": [
       "                                Name     Location               Status    Date\n",
       "0                            Paladar  Logan Square  Permanently closed  Mar-21\n",
       "1                     The Common Cup   Rogers Park    Temporary closed  Mar-21\n",
       "2                No Bones Beach Club   Wicker Park  Permanently closed  Mar-21\n",
       "3    Windy Kitty Cat Café and Lounge      Bucktown    Temporary closed  Mar-21\n",
       "4               Don Juan Restaurante   Edison Park  Permanently closed  Mar-21\n",
       "..                               ...           ...                 ...     ...\n",
       "248    Monty Gael's Tavern and Grill  North Center  Permanently closed  May-20\n",
       "249                         Fat Rice  Logan Square  Permanently closed  May-20\n",
       "250                      The Windsor   Streetville  Permanently closed  May-20\n",
       "251                   D.O.C Wine Bar       Lombard  Permanently closed  May-20\n",
       "252                   The Front Room     West Loop  Permanently closed  May-20\n",
       "\n",
       "[251 rows x 4 columns]"
      ]
     },
     "execution_count": 7,
     "metadata": {},
     "output_type": "execute_result"
    }
   ],
   "source": [
    "clean_data = restaurants_df.loc[restaurants_df['Name'] != \"Mesa Urbana\"]\n",
    "clean_data"
   ]
  },
  {
   "cell_type": "code",
   "execution_count": 8,
   "metadata": {},
   "outputs": [
    {
     "data": {
      "text/plain": [
       "251"
      ]
     },
     "execution_count": 8,
     "metadata": {},
     "output_type": "execute_result"
    }
   ],
   "source": [
    "len(clean_data[\"Name\"].value_counts())"
   ]
  },
  {
   "cell_type": "markdown",
   "metadata": {},
   "source": [
    "## Restaurants Permanently closed vs Temporary closed: Pie Chart"
   ]
  },
  {
   "cell_type": "code",
   "execution_count": 9,
   "metadata": {},
   "outputs": [
    {
     "data": {
      "image/png": "[encoded data removed]",
      "text/plain": [
       "<Figure size 432x288 with 1 Axes>"
      ]
     },
     "metadata": {},
     "output_type": "display_data"
    }
   ],
   "source": [
    "status_count = clean_data[\"Status\"].value_counts()\n",
    "status_count\n",
    "\n",
    "#color of \n",
    "colors=[\"blue\", \"orange\"]\n",
    "\n",
    "#Create the pie based upon the values above\n",
    "status_count.plot(kind=\"pie\",autopct=\"%1.1f%%\")\n",
    "\n",
    "#Formatting\n",
    "plt.title(\" Restaurants Permanently closed vs Temporary closed\")\n",
    "plt.ylabel(\"Status\")\n",
    "plt.savefig(\"../Project_1/Piechart.png\")\n",
    "plt.show()"
   ]
  },
  {
   "cell_type": "markdown",
   "metadata": {},
   "source": [
    "## Neighborhoods Affected: Bar Chart"
   ]
  },
  {
   "cell_type": "code",
   "execution_count": 10,
   "metadata": {},
   "outputs": [
    {
     "data": {
      "text/plain": [
       "River North     26\n",
       "Wicker Park     14\n",
       "Lakeview        12\n",
       "Lincoln Park    12\n",
       "Logan Square    10\n",
       "                ..\n",
       "West Ridge       1\n",
       "Montclare        1\n",
       "Rosemont         1\n",
       "Bowmanville      1\n",
       "Irving Park      1\n",
       "Name: Location, Length: 76, dtype: int64"
      ]
     },
     "execution_count": 10,
     "metadata": {},
     "output_type": "execute_result"
    }
   ],
   "source": [
    "# Count Neighbordhoods\n",
    "# First rename the Location (raw data had a space after location), remove space\n",
    "clean_data = clean_data.rename(columns = {\"Location \": \"Location\"})\n",
    "clean_data\n",
    "clean_data[\"Location\"]\n",
    "# Location count\n",
    "Location_count = clean_data[\"Location\"].value_counts()\n",
    "Location_count\n"
   ]
  },
  {
   "cell_type": "code",
   "execution_count": 11,
   "metadata": {},
   "outputs": [
    {
     "data": {
      "image/png": "[encoded data removed]",
      "text/plain": [
       "<Figure size 1440x720 with 1 Axes>"
      ]
     },
     "metadata": {
      "needs_background": "light"
     },
     "output_type": "display_data"
    }
   ],
   "source": [
    "# Bar Chart\n",
    "# insert out x and y axis \n",
    "y_axis= Location_count.values\n",
    "x_axis= Location_count.index\n",
    "\n",
    "#let's plot the chart\n",
    "Location_count.plot(kind=\"bar\", facecolor='blue',figsize=(20,10))\n",
    "\n",
    "#let's format the chart\n",
    "plt.ylabel(\"Total Number of Restaurants\")\n",
    "plt.xlabel(\"Neighbordhoods\")\n",
    "plt.title(\"Restaurants closing per Neighbordhood\")\n",
    "plt.xticks(rotation=90)\n",
    "plt.savefig(\"../Project_1/Barchart.png\")\n",
    "plt.show()"
   ]
  },
  {
   "cell_type": "markdown",
   "metadata": {},
   "source": [
    "## Restaurants closing per Month : Line chart "
   ]
  },
  {
   "cell_type": "code",
   "execution_count": 12,
   "metadata": {},
   "outputs": [
    {
     "data": {
      "text/plain": [
       "Jan-21    14\n",
       "Mar-21    11\n",
       "Feb-21    11\n",
       "Name: Date, dtype: int64"
      ]
     },
     "execution_count": 12,
     "metadata": {},
     "output_type": "execute_result"
    }
   ],
   "source": [
    "# slice dataset to get only 2021 data\n",
    "year21_df = clean_data[0:36]\n",
    "year21_df\n",
    "\n",
    "date21_count = year21_df[\"Date\"].value_counts()\n",
    "date21_count\n"
   ]
  },
  {
   "cell_type": "code",
   "execution_count": 13,
   "metadata": {},
   "outputs": [
    {
     "data": {
      "image/png": "[encoded data removed]",
      "text/plain": [
       "<Figure size 432x288 with 1 Axes>"
      ]
     },
     "metadata": {
      "needs_background": "light"
     },
     "output_type": "display_data"
    }
   ],
   "source": [
    "# set the y and X axis\n",
    "y_axis= date21_count.values\n",
    "x_axis= date21_count.index\n",
    "\n",
    "# plot the graph\n",
    "plt.title('2021 Restaurants Closure per Month')\n",
    "plt.plot(x_axis, y_axis)\n",
    "plt.xlabel('Months')\n",
    "plt.ylabel('Total Restaurants')\n",
    "plt.savefig(\"../Project_1/line_2021.png\")\n",
    "plt.show()"
   ]
  },
  {
   "cell_type": "code",
   "execution_count": 14,
   "metadata": {},
   "outputs": [
    {
     "data": {
      "text/plain": [
       "Sep-20    35\n",
       "Nov-20    35\n",
       "Jun-20    31\n",
       "Dec-20    28\n",
       "Oct-20    27\n",
       "May-20    23\n",
       "Jul-20    22\n",
       "Aug-20    14\n",
       "Name: Date, dtype: int64"
      ]
     },
     "execution_count": 14,
     "metadata": {},
     "output_type": "execute_result"
    }
   ],
   "source": [
    "# Slice dataset to get only 2020 data\n",
    "year20_df = clean_data[36:]\n",
    "year20_df\n",
    "\n",
    "date20_count = year20_df[\"Date\"].value_counts()\n",
    "date20_count"
   ]
  },
  {
   "cell_type": "code",
   "execution_count": 15,
   "metadata": {},
   "outputs": [
    {
     "data": {
      "text/html": [
       "<div>\n",
       "<style scoped>\n",
       "    .dataframe tbody tr th:only-of-type {\n",
       "        vertical-align: middle;\n",
       "    }\n",
       "\n",
       "    .dataframe tbody tr th {\n",
       "        vertical-align: top;\n",
       "    }\n",
       "\n",
       "    .dataframe thead th {\n",
       "        text-align: right;\n",
       "    }\n",
       "</style>\n",
       "<table border=\"1\" class=\"dataframe\">\n",
       "  <thead>\n",
       "    <tr style=\"text-align: right;\">\n",
       "      <th></th>\n",
       "      <th>January</th>\n",
       "      <th>February</th>\n",
       "      <th>March</th>\n",
       "      <th>April</th>\n",
       "      <th>May</th>\n",
       "      <th>June</th>\n",
       "      <th>July</th>\n",
       "      <th>August</th>\n",
       "      <th>September</th>\n",
       "      <th>October</th>\n",
       "      <th>November</th>\n",
       "      <th>December</th>\n",
       "    </tr>\n",
       "  </thead>\n",
       "  <tbody>\n",
       "    <tr>\n",
       "      <th>0</th>\n",
       "      <td>0</td>\n",
       "      <td>0</td>\n",
       "      <td>0</td>\n",
       "      <td>0</td>\n",
       "      <td>23</td>\n",
       "      <td>31</td>\n",
       "      <td>22</td>\n",
       "      <td>14</td>\n",
       "      <td>35</td>\n",
       "      <td>27</td>\n",
       "      <td>35</td>\n",
       "      <td>28</td>\n",
       "    </tr>\n",
       "  </tbody>\n",
       "</table>\n",
       "</div>"
      ],
      "text/plain": [
       "   January  February  March  April  May  June  July  August  September  \\\n",
       "0        0         0      0      0   23    31    22      14         35   \n",
       "\n",
       "   October  November  December  \n",
       "0       27        35        28  "
      ]
     },
     "execution_count": 15,
     "metadata": {},
     "output_type": "execute_result"
    }
   ],
   "source": [
    "# Put 2020 data into a frame\n",
    "year20 = pd.DataFrame({'January': [0], \n",
    "                   'February': [0],\n",
    "                   \"March\":[0],\n",
    "                   'April':[0],\n",
    "                   'May':[23],\n",
    "                   'June':[31],\n",
    "                   'July':[22],\n",
    "                   'August':[14],\n",
    "                   'September':[35],\n",
    "                   'October':[27],\n",
    "                   'November':[35],\n",
    "                   'December':[28]})\n",
    "                   \n",
    "year20\n",
    "\n",
    "                "
   ]
  },
  {
   "cell_type": "code",
   "execution_count": 16,
   "metadata": {},
   "outputs": [
    {
     "ename": "SyntaxError",
     "evalue": "invalid syntax (<ipython-input-16-6454ccbf2919>, line 5)",
     "output_type": "error",
     "traceback": [
      "\u001b[1;36m  File \u001b[1;32m\"<ipython-input-16-6454ccbf2919>\"\u001b[1;36m, line \u001b[1;32m5\u001b[0m\n\u001b[1;33m    plt.plot(x_axis, y_axis)\u001b[0m\n\u001b[1;37m    ^\u001b[0m\n\u001b[1;31mSyntaxError\u001b[0m\u001b[1;31m:\u001b[0m invalid syntax\n"
     ]
    }
   ],
   "source": [
    "# Create line chart\n",
    "x_axis = list(year20.keys())\n",
    "y_axis = [0, 0,0,0,23,31,22,14,35,27,35,28]\n",
    "plt.figure(figsize=(5,10)\n",
    "plt.plot(x_axis, y_axis)\n",
    "plt.title('2020 Restaurants Closure per Month')\n",
    "plt.xlabel('Months')\n",
    "plt.ylabel('Total Restaurants')\n",
    "plt.xticks(rotation=45)\n",
    "plt.savefig(\"../Project_1/line_2020.png\")"
   ]
  },
  {
   "cell_type": "markdown",
   "metadata": {},
   "source": [
    "### Mobility analysis"
   ]
  },
  {
   "cell_type": "code",
   "execution_count": null,
   "metadata": {},
   "outputs": [],
   "source": [
    "# import mobility data file\n",
    "mobility_file = \"data/cookcounty_Mobility_Report.csv\"\n",
    "\n",
    "# Read the mouse data and the study results and convert date column \n",
    "mobility_df = pd.read_csv(mobility_file,parse_dates=[\"date\"])\n",
    "mobility_df"
   ]
  },
  {
   "cell_type": "code",
   "execution_count": null,
   "metadata": {},
   "outputs": [],
   "source": [
    "# Filter for the Data\n",
    "mobility_df.loc[:,\"date\":].set_index(\"date\").plot(figsize=(15,15))\n",
    "plt.axhline(y=0, color=\"blue\")\n",
    "plt.title('Mobility per Categories')\n",
    "plt.savefig(\"../Project_1/graph.png\")"
   ]
  },
  {
   "cell_type": "code",
   "execution_count": null,
   "metadata": {},
   "outputs": [],
   "source": []
  },
  {
   "cell_type": "code",
   "execution_count": null,
   "metadata": {},
   "outputs": [],
   "source": []
  },
  {
   "cell_type": "code",
   "execution_count": null,
   "metadata": {},
   "outputs": [],
   "source": []
  }
 ],
 "metadata": {
  "kernelspec": {
   "display_name": "Python 3",
   "language": "python",
   "name": "python3"
  },
  "language_info": {
   "codemirror_mode": {
    "name": "ipython",
    "version": 3
   },
   "file_extension": ".py",
   "mimetype": "text/x-python",
   "name": "python",
   "nbconvert_exporter": "python",
   "pygments_lexer": "ipython3",
   "version": "3.8.5"
  }
 },
 "nbformat": 4,
 "nbformat_minor": 4
}
